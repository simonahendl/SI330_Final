{
 "cells": [
  {
   "cell_type": "code",
   "execution_count": 120,
   "metadata": {},
   "outputs": [],
   "source": [
    "import pandas as pd\n",
    "import matplotlib.pyplot as plt\n",
    "%matplotlib inline\n",
    "import datetime\n",
    "import csv\n",
    "from math import sqrt\n",
    "from matplotlib import rc,rcParams\n",
    "import re\n",
    "import sklearn\n",
    "from sklearn.feature_extraction import DictVectorizer\n",
    "from sklearn.metrics.pairwise import cosine_similarity\n",
    "from nltk.sentiment import SentimentIntensityAnalyzer\n",
    "import numpy \n",
    "import numpy as np\n",
    "import emoji\n",
    "from langdetect import detect\n",
    "from matplotlib.pyplot import figure"
   ]
  },
  {
   "cell_type": "code",
   "execution_count": 131,
   "metadata": {},
   "outputs": [],
   "source": [
    "#!pip install emoji"
   ]
  },
  {
   "cell_type": "code",
   "execution_count": 132,
   "metadata": {},
   "outputs": [],
   "source": [
    "#!pip install langdetect"
   ]
  },
  {
   "cell_type": "markdown",
   "metadata": {},
   "source": [
    "**Pfizer Tweet Data begins on 2020-12-12 and (available data) ends on 2021-11-14. Pfizer Stock Data is available from 1972-06-01 and ends on 2021-11-12. To ensure that we are looking at the same timeframe for both datasets, the Pfizer Stock Data was filtered to dates between 2020-12-12 to 2021-11-12, and Pfizer Tweet Data was filtered to be from 2020-12-12 to 2021-11-12.**"
   ]
  },
  {
   "cell_type": "code",
   "execution_count": 235,
   "metadata": {},
   "outputs": [],
   "source": [
    "pfizer_tweets = pd.read_csv(\"vaccination_tweets.csv\")"
   ]
  },
  {
   "cell_type": "code",
   "execution_count": 236,
   "metadata": {},
   "outputs": [],
   "source": [
    "pfizer_tweets = pfizer_tweets[~(pfizer_tweets['date'] > '2021-11-13')]\n",
    "#pfizer_tweets"
   ]
  },
  {
   "cell_type": "code",
   "execution_count": 237,
   "metadata": {},
   "outputs": [],
   "source": [
    "pfizer_stock_data = pd.read_csv(\"PFE.csv\")\n",
    "#pfizer_stock_data"
   ]
  },
  {
   "cell_type": "code",
   "execution_count": 253,
   "metadata": {},
   "outputs": [
    {
     "data": {
      "text/html": [
       "<div>\n",
       "<style scoped>\n",
       "    .dataframe tbody tr th:only-of-type {\n",
       "        vertical-align: middle;\n",
       "    }\n",
       "\n",
       "    .dataframe tbody tr th {\n",
       "        vertical-align: top;\n",
       "    }\n",
       "\n",
       "    .dataframe thead th {\n",
       "        text-align: right;\n",
       "    }\n",
       "</style>\n",
       "<table border=\"1\" class=\"dataframe\">\n",
       "  <thead>\n",
       "    <tr style=\"text-align: right;\">\n",
       "      <th></th>\n",
       "      <th>index</th>\n",
       "      <th>Date</th>\n",
       "      <th>Open</th>\n",
       "      <th>High</th>\n",
       "      <th>Low</th>\n",
       "      <th>Close</th>\n",
       "      <th>Adj Close</th>\n",
       "      <th>Volume</th>\n",
       "    </tr>\n",
       "  </thead>\n",
       "  <tbody>\n",
       "    <tr>\n",
       "      <th>0</th>\n",
       "      <td>12241</td>\n",
       "      <td>2020-12-14</td>\n",
       "      <td>41.619999</td>\n",
       "      <td>41.660000</td>\n",
       "      <td>39.070000</td>\n",
       "      <td>39.209999</td>\n",
       "      <td>37.733589</td>\n",
       "      <td>94809700</td>\n",
       "    </tr>\n",
       "    <tr>\n",
       "      <th>1</th>\n",
       "      <td>12242</td>\n",
       "      <td>2020-12-15</td>\n",
       "      <td>39.060001</td>\n",
       "      <td>39.180000</td>\n",
       "      <td>38.209999</td>\n",
       "      <td>38.709999</td>\n",
       "      <td>37.252419</td>\n",
       "      <td>65712800</td>\n",
       "    </tr>\n",
       "    <tr>\n",
       "      <th>2</th>\n",
       "      <td>12243</td>\n",
       "      <td>2020-12-16</td>\n",
       "      <td>38.180000</td>\n",
       "      <td>38.470001</td>\n",
       "      <td>37.740002</td>\n",
       "      <td>37.840000</td>\n",
       "      <td>36.415180</td>\n",
       "      <td>56515300</td>\n",
       "    </tr>\n",
       "    <tr>\n",
       "      <th>3</th>\n",
       "      <td>12244</td>\n",
       "      <td>2020-12-17</td>\n",
       "      <td>37.830002</td>\n",
       "      <td>38.119999</td>\n",
       "      <td>37.310001</td>\n",
       "      <td>38.029999</td>\n",
       "      <td>36.598022</td>\n",
       "      <td>52036400</td>\n",
       "    </tr>\n",
       "    <tr>\n",
       "      <th>4</th>\n",
       "      <td>12245</td>\n",
       "      <td>2020-12-18</td>\n",
       "      <td>37.990002</td>\n",
       "      <td>38.090000</td>\n",
       "      <td>37.500000</td>\n",
       "      <td>37.680000</td>\n",
       "      <td>36.261200</td>\n",
       "      <td>60259200</td>\n",
       "    </tr>\n",
       "    <tr>\n",
       "      <th>...</th>\n",
       "      <td>...</td>\n",
       "      <td>...</td>\n",
       "      <td>...</td>\n",
       "      <td>...</td>\n",
       "      <td>...</td>\n",
       "      <td>...</td>\n",
       "      <td>...</td>\n",
       "      <td>...</td>\n",
       "    </tr>\n",
       "    <tr>\n",
       "      <th>227</th>\n",
       "      <td>12468</td>\n",
       "      <td>2021-11-08</td>\n",
       "      <td>48.610001</td>\n",
       "      <td>48.790001</td>\n",
       "      <td>47.599998</td>\n",
       "      <td>48.330002</td>\n",
       "      <td>48.330002</td>\n",
       "      <td>57423300</td>\n",
       "    </tr>\n",
       "    <tr>\n",
       "      <th>228</th>\n",
       "      <td>12469</td>\n",
       "      <td>2021-11-09</td>\n",
       "      <td>48.330002</td>\n",
       "      <td>48.380001</td>\n",
       "      <td>47.150002</td>\n",
       "      <td>47.299999</td>\n",
       "      <td>47.299999</td>\n",
       "      <td>29920400</td>\n",
       "    </tr>\n",
       "    <tr>\n",
       "      <th>229</th>\n",
       "      <td>12470</td>\n",
       "      <td>2021-11-10</td>\n",
       "      <td>47.400002</td>\n",
       "      <td>49.209999</td>\n",
       "      <td>47.400002</td>\n",
       "      <td>49.020000</td>\n",
       "      <td>49.020000</td>\n",
       "      <td>42696200</td>\n",
       "    </tr>\n",
       "    <tr>\n",
       "      <th>230</th>\n",
       "      <td>12471</td>\n",
       "      <td>2021-11-11</td>\n",
       "      <td>49.230000</td>\n",
       "      <td>50.500000</td>\n",
       "      <td>48.730000</td>\n",
       "      <td>50.180000</td>\n",
       "      <td>50.180000</td>\n",
       "      <td>42370400</td>\n",
       "    </tr>\n",
       "    <tr>\n",
       "      <th>231</th>\n",
       "      <td>12472</td>\n",
       "      <td>2021-11-12</td>\n",
       "      <td>50.419998</td>\n",
       "      <td>50.490002</td>\n",
       "      <td>49.570000</td>\n",
       "      <td>49.730000</td>\n",
       "      <td>49.730000</td>\n",
       "      <td>27766700</td>\n",
       "    </tr>\n",
       "  </tbody>\n",
       "</table>\n",
       "<p>232 rows × 8 columns</p>\n",
       "</div>"
      ],
      "text/plain": [
       "     index       Date       Open       High        Low      Close  Adj Close  \\\n",
       "0    12241 2020-12-14  41.619999  41.660000  39.070000  39.209999  37.733589   \n",
       "1    12242 2020-12-15  39.060001  39.180000  38.209999  38.709999  37.252419   \n",
       "2    12243 2020-12-16  38.180000  38.470001  37.740002  37.840000  36.415180   \n",
       "3    12244 2020-12-17  37.830002  38.119999  37.310001  38.029999  36.598022   \n",
       "4    12245 2020-12-18  37.990002  38.090000  37.500000  37.680000  36.261200   \n",
       "..     ...        ...        ...        ...        ...        ...        ...   \n",
       "227  12468 2021-11-08  48.610001  48.790001  47.599998  48.330002  48.330002   \n",
       "228  12469 2021-11-09  48.330002  48.380001  47.150002  47.299999  47.299999   \n",
       "229  12470 2021-11-10  47.400002  49.209999  47.400002  49.020000  49.020000   \n",
       "230  12471 2021-11-11  49.230000  50.500000  48.730000  50.180000  50.180000   \n",
       "231  12472 2021-11-12  50.419998  50.490002  49.570000  49.730000  49.730000   \n",
       "\n",
       "       Volume  \n",
       "0    94809700  \n",
       "1    65712800  \n",
       "2    56515300  \n",
       "3    52036400  \n",
       "4    60259200  \n",
       "..        ...  \n",
       "227  57423300  \n",
       "228  29920400  \n",
       "229  42696200  \n",
       "230  42370400  \n",
       "231  27766700  \n",
       "\n",
       "[232 rows x 8 columns]"
      ]
     },
     "execution_count": 253,
     "metadata": {},
     "output_type": "execute_result"
    }
   ],
   "source": [
    "pfizer_stock_data['Date'] = pd.to_datetime(pfizer_stock_data['Date'])\n",
    "\n",
    "pfizer_stock_data = pfizer_stock_data[~(pfizer_stock_data['Date'] < '2020-12-12')]\n",
    "pfizer_stock_data = pfizer_stock_data[~(pfizer_stock_data['Date'] > '2021-11-12')]\n",
    "pfizer_stocks_data = pfizer_stock_data.reset_index()\n",
    "pfizer_stocks_data"
   ]
  },
  {
   "cell_type": "markdown",
   "metadata": {},
   "source": [
    "## Tweet Preprocessing"
   ]
  },
  {
   "cell_type": "markdown",
   "metadata": {},
   "source": [
    "*Not necessary to remove non-English tweets from the dataframe as Vader can analyze non-English tweets, and non-English speaking individuals can tweet about the vaccine AND participate in the stock market*."
   ]
  },
  {
   "cell_type": "markdown",
   "metadata": {},
   "source": [
    "**Converting all emojis in tweets to text**"
   ]
  },
  {
   "cell_type": "code",
   "execution_count": 239,
   "metadata": {},
   "outputs": [],
   "source": [
    "#!pip install vaderSentiment"
   ]
  },
  {
   "cell_type": "code",
   "execution_count": 240,
   "metadata": {},
   "outputs": [],
   "source": [
    "#Insert String\n",
    "#Return String\n",
    "\n",
    "sentim_analyzer = SentimentIntensityAnalyzer()\n",
    "\n",
    "def emoji_to_text(text):\n",
    "    edicts = emoji.emoji_lis(text)\n",
    "    \n",
    "    for e in edicts:\n",
    "        replacement = \" \"+emoji.demojize(e[\"emoji\"]).replace(\":\",\"\").replace(\"_\",\" \")\n",
    "        text=text.replace(e[\"emoji\"],replacement)\n",
    "    return text"
   ]
  },
  {
   "cell_type": "code",
   "execution_count": 241,
   "metadata": {},
   "outputs": [
    {
     "name": "stdout",
     "output_type": "stream",
     "text": [
      "Catch utf-8 emoji such as  heart with arrow and  kiss mark and  beaming face with smiling eyes\n"
     ]
    }
   ],
   "source": [
    "#Test for check_english_tweets\n",
    "tweet_emoji = 'Catch utf-8 emoji such as 💘 and 💋 and 😁'\n",
    "\n",
    "print(emoji_to_text(tweet_emoji))"
   ]
  },
  {
   "cell_type": "code",
   "execution_count": 242,
   "metadata": {},
   "outputs": [],
   "source": [
    "pfizer_tweets['text'] = pfizer_tweets['text'].apply(emoji_to_text)"
   ]
  },
  {
   "cell_type": "markdown",
   "metadata": {},
   "source": [
    "**Cleaning tweets of mentions, URL links, and special characters because this not meaningful data for the Vader Sentiment Analyzer**"
   ]
  },
  {
   "cell_type": "code",
   "execution_count": 243,
   "metadata": {},
   "outputs": [],
   "source": [
    "#Insert two strings\n",
    "#String\n",
    "\n",
    "def remove_pattern(text, pattern):\n",
    "    r = re.findall(pattern, text)\n",
    "    for item in r:\n",
    "        text = re.sub(item, '', text)        \n",
    "    return text"
   ]
  },
  {
   "cell_type": "code",
   "execution_count": 244,
   "metadata": {},
   "outputs": [
    {
     "name": "stdout",
     "output_type": "stream",
     "text": [
      "I do not like \n"
     ]
    }
   ],
   "source": [
    "#Test for remove_pattern\n",
    "print(remove_pattern(\"I do not like @United_Airlines\", r'@United_Airlines'))"
   ]
  },
  {
   "cell_type": "code",
   "execution_count": 245,
   "metadata": {},
   "outputs": [],
   "source": [
    "#Insert String\n",
    "#Return String\n",
    "def clean_tweets(tweet):\n",
    "    #remove twitter handles (@xxx)\n",
    "    tweet = remove_pattern(tweet, \"@[\\w]*\")\n",
    "    \n",
    "    #remove URL links (httpxxx)\n",
    "    tweet = remove_pattern(tweet, \"https?://[A-Za-z0-9./]*\")\n",
    "    \n",
    "    #remove special characters, numbers, punctuations (except for #)\n",
    "    tweet = re.sub(\"[^a-zA-Z]\", \" \", tweet)\n",
    "    \n",
    "    return tweet"
   ]
  },
  {
   "cell_type": "code",
   "execution_count": 246,
   "metadata": {},
   "outputs": [
    {
     "name": "stdout",
     "output_type": "stream",
     "text": [
      "COVID Vaccine Updates        \n"
     ]
    }
   ],
   "source": [
    "#Test for clean_tweets\n",
    "print(clean_tweets('COVID Vaccine Updates, @POTUS: https://www.whitehouse.gov/ ***'))"
   ]
  },
  {
   "cell_type": "code",
   "execution_count": 247,
   "metadata": {},
   "outputs": [],
   "source": [
    "pfizer_tweets['text'] = pfizer_tweets['text'].apply(clean_tweets)"
   ]
  },
  {
   "cell_type": "markdown",
   "metadata": {},
   "source": [
    "**Finding polarity score of each tweet and extracting the polarity score to put in a column**"
   ]
  },
  {
   "cell_type": "code",
   "execution_count": 248,
   "metadata": {},
   "outputs": [],
   "source": [
    "#Insert a String\n",
    "#Returns a Float\n",
    "def extract_compound_score(text):\n",
    "    polarity_scores = sentim_analyzer.polarity_scores(text)\n",
    "    compound_score = polarity_scores['compound']\n",
    "    return compound_score"
   ]
  },
  {
   "cell_type": "code",
   "execution_count": 249,
   "metadata": {},
   "outputs": [
    {
     "name": "stdout",
     "output_type": "stream",
     "text": [
      "0.7003\n"
     ]
    }
   ],
   "source": [
    "#Test for extract_compound_score\n",
    "print(extract_compound_score('Catch utf-8 emoji such as  heart with arrow and  kiss mark and  beaming face with smiling eyes'))"
   ]
  },
  {
   "cell_type": "code",
   "execution_count": 250,
   "metadata": {},
   "outputs": [],
   "source": [
    "pfizer_tweets['compound_score'] = pfizer_tweets['text'].apply(extract_compound_score)"
   ]
  },
  {
   "cell_type": "code",
   "execution_count": 251,
   "metadata": {},
   "outputs": [
    {
     "data": {
      "text/plain": [
       "' PfizerBioNTech booster today   syringeThankful '"
      ]
     },
     "execution_count": 251,
     "metadata": {},
     "output_type": "execute_result"
    }
   ],
   "source": [
    "pfizer_tweets.loc[10945]['text']"
   ]
  },
  {
   "cell_type": "code",
   "execution_count": 234,
   "metadata": {},
   "outputs": [
    {
     "data": {
      "text/plain": [
       "'#PfizerBioNTech booster today. 💉Thankful.'"
      ]
     },
     "execution_count": 234,
     "metadata": {},
     "output_type": "execute_result"
    }
   ],
   "source": [
    "#DO NOT RUN AGAIN\n",
    "pfizer_tweets.loc[10945]['text']"
   ]
  },
  {
   "cell_type": "code",
   "execution_count": 233,
   "metadata": {},
   "outputs": [
    {
     "data": {
      "text/plain": [
       "{'neg': 0.0, 'neu': 1.0, 'pos': 0.0, 'compound': 0.0}"
      ]
     },
     "execution_count": 233,
     "metadata": {},
     "output_type": "execute_result"
    }
   ],
   "source": [
    "sentim_analyzer.polarity_scores('PfizerBioNTech booster today. 💉Thankful.')"
   ]
  },
  {
   "cell_type": "code",
   "execution_count": 252,
   "metadata": {},
   "outputs": [
    {
     "data": {
      "text/plain": [
       "{'neg': 0.0, 'neu': 1.0, 'pos': 0.0, 'compound': 0.0}"
      ]
     },
     "execution_count": 252,
     "metadata": {},
     "output_type": "execute_result"
    }
   ],
   "source": [
    "sentim_analyzer.polarity_scores(' PfizerBioNTech booster today   syringeThankful ')"
   ]
  },
  {
   "cell_type": "code",
   "execution_count": 224,
   "metadata": {},
   "outputs": [
    {
     "data": {
      "text/html": [
       "<div>\n",
       "<style scoped>\n",
       "    .dataframe tbody tr th:only-of-type {\n",
       "        vertical-align: middle;\n",
       "    }\n",
       "\n",
       "    .dataframe tbody tr th {\n",
       "        vertical-align: top;\n",
       "    }\n",
       "\n",
       "    .dataframe thead th {\n",
       "        text-align: right;\n",
       "    }\n",
       "</style>\n",
       "<table border=\"1\" class=\"dataframe\">\n",
       "  <thead>\n",
       "    <tr style=\"text-align: right;\">\n",
       "      <th></th>\n",
       "      <th>id</th>\n",
       "      <th>user_name</th>\n",
       "      <th>user_location</th>\n",
       "      <th>user_description</th>\n",
       "      <th>user_created</th>\n",
       "      <th>user_followers</th>\n",
       "      <th>user_friends</th>\n",
       "      <th>user_favourites</th>\n",
       "      <th>user_verified</th>\n",
       "      <th>date</th>\n",
       "      <th>text</th>\n",
       "      <th>hashtags</th>\n",
       "      <th>source</th>\n",
       "      <th>retweets</th>\n",
       "      <th>favorites</th>\n",
       "      <th>is_retweet</th>\n",
       "      <th>compound_score</th>\n",
       "    </tr>\n",
       "  </thead>\n",
       "  <tbody>\n",
       "    <tr>\n",
       "      <th>3</th>\n",
       "      <td>1337855739918835717</td>\n",
       "      <td>Charles Adler</td>\n",
       "      <td>Vancouver, BC - Canada</td>\n",
       "      <td>Hosting \"CharlesAdlerTonight\" Global News Radi...</td>\n",
       "      <td>2008-09-10 11:28:53</td>\n",
       "      <td>49165</td>\n",
       "      <td>3933</td>\n",
       "      <td>21853</td>\n",
       "      <td>True</td>\n",
       "      <td>2020-12-12 20:23:59</td>\n",
       "      <td>Facts are immutable  Senator  even when you re...</td>\n",
       "      <td>NaN</td>\n",
       "      <td>Twitter Web App</td>\n",
       "      <td>446</td>\n",
       "      <td>2129</td>\n",
       "      <td>False</td>\n",
       "      <td>0.0</td>\n",
       "    </tr>\n",
       "    <tr>\n",
       "      <th>4</th>\n",
       "      <td>1337854064604966912</td>\n",
       "      <td>Citizen News Channel</td>\n",
       "      <td>NaN</td>\n",
       "      <td>Citizen News Channel bringing you an alternati...</td>\n",
       "      <td>2020-04-23 17:58:42</td>\n",
       "      <td>152</td>\n",
       "      <td>580</td>\n",
       "      <td>1473</td>\n",
       "      <td>False</td>\n",
       "      <td>2020-12-12 20:17:19</td>\n",
       "      <td>Explain to me again why we need a vaccine    w...</td>\n",
       "      <td>['whereareallthesickpeople', 'PfizerBioNTech']</td>\n",
       "      <td>Twitter for iPhone</td>\n",
       "      <td>0</td>\n",
       "      <td>0</td>\n",
       "      <td>False</td>\n",
       "      <td>0.0</td>\n",
       "    </tr>\n",
       "    <tr>\n",
       "      <th>8</th>\n",
       "      <td>1337850023531347969</td>\n",
       "      <td>Erin Despas</td>\n",
       "      <td>NaN</td>\n",
       "      <td>Designing&amp;selling on Teespring. Like 90s Disne...</td>\n",
       "      <td>2009-10-30 17:53:54</td>\n",
       "      <td>887</td>\n",
       "      <td>1515</td>\n",
       "      <td>9639</td>\n",
       "      <td>False</td>\n",
       "      <td>2020-12-12 20:01:16</td>\n",
       "      <td>Covid vaccine  You getting it     CovidVaccine...</td>\n",
       "      <td>['CovidVaccine', 'covid19', 'PfizerBioNTech', ...</td>\n",
       "      <td>Twitter Web App</td>\n",
       "      <td>2</td>\n",
       "      <td>1</td>\n",
       "      <td>False</td>\n",
       "      <td>0.0</td>\n",
       "    </tr>\n",
       "    <tr>\n",
       "      <th>9</th>\n",
       "      <td>1337842295857623042</td>\n",
       "      <td>Ch.Amjad Ali</td>\n",
       "      <td>Islamabad</td>\n",
       "      <td>#ProudPakistani #LovePakArmy #PMIK @insafiansp...</td>\n",
       "      <td>2012-11-12 04:18:12</td>\n",
       "      <td>671</td>\n",
       "      <td>2368</td>\n",
       "      <td>20469</td>\n",
       "      <td>False</td>\n",
       "      <td>2020-12-12 19:30:33</td>\n",
       "      <td>CovidVaccine   States will start getting  COV...</td>\n",
       "      <td>['CovidVaccine', 'COVID19Vaccine', 'US', 'paku...</td>\n",
       "      <td>Twitter Web App</td>\n",
       "      <td>0</td>\n",
       "      <td>0</td>\n",
       "      <td>False</td>\n",
       "      <td>0.0</td>\n",
       "    </tr>\n",
       "    <tr>\n",
       "      <th>10</th>\n",
       "      <td>1337841934170255365</td>\n",
       "      <td>Tamer Yazar</td>\n",
       "      <td>Turkey-Israel</td>\n",
       "      <td>Im Market Analyst, also Editor... working (fre...</td>\n",
       "      <td>2009-09-17 16:45:16</td>\n",
       "      <td>1302</td>\n",
       "      <td>78</td>\n",
       "      <td>339</td>\n",
       "      <td>False</td>\n",
       "      <td>2020-12-12 19:29:07</td>\n",
       "      <td>while deaths are closing in on the         mar...</td>\n",
       "      <td>['PfizerBioNTech', 'Vaccine']</td>\n",
       "      <td>Twitter Web App</td>\n",
       "      <td>0</td>\n",
       "      <td>0</td>\n",
       "      <td>False</td>\n",
       "      <td>0.0</td>\n",
       "    </tr>\n",
       "    <tr>\n",
       "      <th>...</th>\n",
       "      <td>...</td>\n",
       "      <td>...</td>\n",
       "      <td>...</td>\n",
       "      <td>...</td>\n",
       "      <td>...</td>\n",
       "      <td>...</td>\n",
       "      <td>...</td>\n",
       "      <td>...</td>\n",
       "      <td>...</td>\n",
       "      <td>...</td>\n",
       "      <td>...</td>\n",
       "      <td>...</td>\n",
       "      <td>...</td>\n",
       "      <td>...</td>\n",
       "      <td>...</td>\n",
       "      <td>...</td>\n",
       "      <td>...</td>\n",
       "    </tr>\n",
       "    <tr>\n",
       "      <th>10942</th>\n",
       "      <td>1458987047495032832</td>\n",
       "      <td>𝑯𝒐𝒘𝒂𝒓𝒅 𝑪𝒉𝒖 🇨🇦</td>\n",
       "      <td>Canada 🇨🇦</td>\n",
       "      <td>Nothing is too mundane in life.</td>\n",
       "      <td>2009-04-19 17:11:03</td>\n",
       "      <td>241</td>\n",
       "      <td>691</td>\n",
       "      <td>8353</td>\n",
       "      <td>False</td>\n",
       "      <td>2021-11-12 02:36:33</td>\n",
       "      <td>Not the case for the   doses   Moderna mRNA ...</td>\n",
       "      <td>['Moderna']</td>\n",
       "      <td>Twitter for Android</td>\n",
       "      <td>0</td>\n",
       "      <td>1</td>\n",
       "      <td>False</td>\n",
       "      <td>0.0</td>\n",
       "    </tr>\n",
       "    <tr>\n",
       "      <th>10944</th>\n",
       "      <td>1458953029726744578</td>\n",
       "      <td>Arnold V Ancheta</td>\n",
       "      <td>Maryland, USA</td>\n",
       "      <td>Tabungao</td>\n",
       "      <td>2011-03-17 07:25:12</td>\n",
       "      <td>301</td>\n",
       "      <td>1990</td>\n",
       "      <td>21874</td>\n",
       "      <td>False</td>\n",
       "      <td>2021-11-12 00:21:22</td>\n",
       "      <td>Calix Ancheta COVID    Vaccines Pfizer BioNTec...</td>\n",
       "      <td>['Pfizer', 'pfizer1stdose', 'PfizerBioNTech', ...</td>\n",
       "      <td>Twitter for iPhone</td>\n",
       "      <td>0</td>\n",
       "      <td>0</td>\n",
       "      <td>False</td>\n",
       "      <td>0.0</td>\n",
       "    </tr>\n",
       "    <tr>\n",
       "      <th>10945</th>\n",
       "      <td>1458943411080163355</td>\n",
       "      <td>Carla 🇨🇦 Roncato</td>\n",
       "      <td>Earth</td>\n",
       "      <td>Data. Analytics. AI. Privacy. Identity. Security.</td>\n",
       "      <td>2014-09-25 07:11:48</td>\n",
       "      <td>229</td>\n",
       "      <td>304</td>\n",
       "      <td>1072</td>\n",
       "      <td>False</td>\n",
       "      <td>2021-11-11 23:43:09</td>\n",
       "      <td>PfizerBioNTech booster today   syringeThankful</td>\n",
       "      <td>['PfizerBioNTech']</td>\n",
       "      <td>Twitter for iPhone</td>\n",
       "      <td>0</td>\n",
       "      <td>2</td>\n",
       "      <td>False</td>\n",
       "      <td>0.0</td>\n",
       "    </tr>\n",
       "    <tr>\n",
       "      <th>10947</th>\n",
       "      <td>1458932114418716676</td>\n",
       "      <td>Joseph Harrison</td>\n",
       "      <td>UK</td>\n",
       "      <td>I blog about my life, feeling a bit 'robbed' b...</td>\n",
       "      <td>2012-04-06 13:51:19</td>\n",
       "      <td>4415</td>\n",
       "      <td>4715</td>\n",
       "      <td>38480</td>\n",
       "      <td>False</td>\n",
       "      <td>2021-11-11 22:58:16</td>\n",
       "      <td>BLOG         I M JUST GOING FOR A WALK    PART...</td>\n",
       "      <td>['CovidVaccine', 'PfizerBionTech']</td>\n",
       "      <td>Twitter Web App</td>\n",
       "      <td>1</td>\n",
       "      <td>0</td>\n",
       "      <td>False</td>\n",
       "      <td>0.0</td>\n",
       "    </tr>\n",
       "    <tr>\n",
       "      <th>10948</th>\n",
       "      <td>1458922048848289795</td>\n",
       "      <td>Dra. Claudia Ⓥ✨🇵🇹🇪🇺🏳️‍🌈🌍</td>\n",
       "      <td>UnknownGalaxy&amp;SynapseLand*</td>\n",
       "      <td>Mother + Brain Explorer + Neurophotonics Resea...</td>\n",
       "      <td>2009-09-13 08:56:51</td>\n",
       "      <td>3534</td>\n",
       "      <td>2381</td>\n",
       "      <td>163012</td>\n",
       "      <td>False</td>\n",
       "      <td>2021-11-11 22:18:16</td>\n",
       "      <td>Taiwan halts  nd dose  BioNTech  vaccinations...</td>\n",
       "      <td>['BioNTech', 'vaccinations', 'concerns', 'Pfiz...</td>\n",
       "      <td>Twitter for Android</td>\n",
       "      <td>0</td>\n",
       "      <td>0</td>\n",
       "      <td>False</td>\n",
       "      <td>0.0</td>\n",
       "    </tr>\n",
       "  </tbody>\n",
       "</table>\n",
       "<p>4152 rows × 17 columns</p>\n",
       "</div>"
      ],
      "text/plain": [
       "                        id                 user_name  \\\n",
       "3      1337855739918835717             Charles Adler   \n",
       "4      1337854064604966912      Citizen News Channel   \n",
       "8      1337850023531347969               Erin Despas   \n",
       "9      1337842295857623042              Ch.Amjad Ali   \n",
       "10     1337841934170255365               Tamer Yazar   \n",
       "...                    ...                       ...   \n",
       "10942  1458987047495032832             𝑯𝒐𝒘𝒂𝒓𝒅 𝑪𝒉𝒖 🇨🇦   \n",
       "10944  1458953029726744578          Arnold V Ancheta   \n",
       "10945  1458943411080163355          Carla 🇨🇦 Roncato   \n",
       "10947  1458932114418716676           Joseph Harrison   \n",
       "10948  1458922048848289795  Dra. Claudia Ⓥ✨🇵🇹🇪🇺🏳️‍🌈🌍   \n",
       "\n",
       "                    user_location  \\\n",
       "3          Vancouver, BC - Canada   \n",
       "4                             NaN   \n",
       "8                             NaN   \n",
       "9                       Islamabad   \n",
       "10                  Turkey-Israel   \n",
       "...                           ...   \n",
       "10942                   Canada 🇨🇦   \n",
       "10944               Maryland, USA   \n",
       "10945                       Earth   \n",
       "10947                          UK   \n",
       "10948  UnknownGalaxy&SynapseLand*   \n",
       "\n",
       "                                        user_description         user_created  \\\n",
       "3      Hosting \"CharlesAdlerTonight\" Global News Radi...  2008-09-10 11:28:53   \n",
       "4      Citizen News Channel bringing you an alternati...  2020-04-23 17:58:42   \n",
       "8      Designing&selling on Teespring. Like 90s Disne...  2009-10-30 17:53:54   \n",
       "9      #ProudPakistani #LovePakArmy #PMIK @insafiansp...  2012-11-12 04:18:12   \n",
       "10     Im Market Analyst, also Editor... working (fre...  2009-09-17 16:45:16   \n",
       "...                                                  ...                  ...   \n",
       "10942                    Nothing is too mundane in life.  2009-04-19 17:11:03   \n",
       "10944                                           Tabungao  2011-03-17 07:25:12   \n",
       "10945  Data. Analytics. AI. Privacy. Identity. Security.  2014-09-25 07:11:48   \n",
       "10947  I blog about my life, feeling a bit 'robbed' b...  2012-04-06 13:51:19   \n",
       "10948  Mother + Brain Explorer + Neurophotonics Resea...  2009-09-13 08:56:51   \n",
       "\n",
       "       user_followers  user_friends  user_favourites  user_verified  \\\n",
       "3               49165          3933            21853           True   \n",
       "4                 152           580             1473          False   \n",
       "8                 887          1515             9639          False   \n",
       "9                 671          2368            20469          False   \n",
       "10               1302            78              339          False   \n",
       "...               ...           ...              ...            ...   \n",
       "10942             241           691             8353          False   \n",
       "10944             301          1990            21874          False   \n",
       "10945             229           304             1072          False   \n",
       "10947            4415          4715            38480          False   \n",
       "10948            3534          2381           163012          False   \n",
       "\n",
       "                      date                                               text  \\\n",
       "3      2020-12-12 20:23:59  Facts are immutable  Senator  even when you re...   \n",
       "4      2020-12-12 20:17:19  Explain to me again why we need a vaccine    w...   \n",
       "8      2020-12-12 20:01:16  Covid vaccine  You getting it     CovidVaccine...   \n",
       "9      2020-12-12 19:30:33   CovidVaccine   States will start getting  COV...   \n",
       "10     2020-12-12 19:29:07  while deaths are closing in on the         mar...   \n",
       "...                    ...                                                ...   \n",
       "10942  2021-11-12 02:36:33    Not the case for the   doses   Moderna mRNA ...   \n",
       "10944  2021-11-12 00:21:22  Calix Ancheta COVID    Vaccines Pfizer BioNTec...   \n",
       "10945  2021-11-11 23:43:09    PfizerBioNTech booster today   syringeThankful    \n",
       "10947  2021-11-11 22:58:16  BLOG         I M JUST GOING FOR A WALK    PART...   \n",
       "10948  2021-11-11 22:18:16   Taiwan halts  nd dose  BioNTech  vaccinations...   \n",
       "\n",
       "                                                hashtags               source  \\\n",
       "3                                                    NaN      Twitter Web App   \n",
       "4         ['whereareallthesickpeople', 'PfizerBioNTech']   Twitter for iPhone   \n",
       "8      ['CovidVaccine', 'covid19', 'PfizerBioNTech', ...      Twitter Web App   \n",
       "9      ['CovidVaccine', 'COVID19Vaccine', 'US', 'paku...      Twitter Web App   \n",
       "10                         ['PfizerBioNTech', 'Vaccine']      Twitter Web App   \n",
       "...                                                  ...                  ...   \n",
       "10942                                        ['Moderna']  Twitter for Android   \n",
       "10944  ['Pfizer', 'pfizer1stdose', 'PfizerBioNTech', ...   Twitter for iPhone   \n",
       "10945                                 ['PfizerBioNTech']   Twitter for iPhone   \n",
       "10947                 ['CovidVaccine', 'PfizerBionTech']      Twitter Web App   \n",
       "10948  ['BioNTech', 'vaccinations', 'concerns', 'Pfiz...  Twitter for Android   \n",
       "\n",
       "       retweets  favorites  is_retweet  compound_score  \n",
       "3           446       2129       False             0.0  \n",
       "4             0          0       False             0.0  \n",
       "8             2          1       False             0.0  \n",
       "9             0          0       False             0.0  \n",
       "10            0          0       False             0.0  \n",
       "...         ...        ...         ...             ...  \n",
       "10942         0          1       False             0.0  \n",
       "10944         0          0       False             0.0  \n",
       "10945         0          2       False             0.0  \n",
       "10947         1          0       False             0.0  \n",
       "10948         0          0       False             0.0  \n",
       "\n",
       "[4152 rows x 17 columns]"
      ]
     },
     "execution_count": 224,
     "metadata": {},
     "output_type": "execute_result"
    }
   ],
   "source": [
    "pfizer_tweets[pfizer_tweets['compound_score'] == 0.0000]"
   ]
  },
  {
   "cell_type": "code",
   "execution_count": null,
   "metadata": {},
   "outputs": [],
   "source": []
  }
 ],
 "metadata": {
  "kernelspec": {
   "display_name": "Python 3",
   "language": "python",
   "name": "python3"
  },
  "language_info": {
   "codemirror_mode": {
    "name": "ipython",
    "version": 3
   },
   "file_extension": ".py",
   "mimetype": "text/x-python",
   "name": "python",
   "nbconvert_exporter": "python",
   "pygments_lexer": "ipython3",
   "version": "3.6.10"
  }
 },
 "nbformat": 4,
 "nbformat_minor": 4
}
